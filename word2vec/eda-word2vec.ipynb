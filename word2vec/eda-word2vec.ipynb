{
 "cells": [
  {
   "cell_type": "code",
   "execution_count": 5,
   "id": "3dda6608",
   "metadata": {},
   "outputs": [],
   "source": [
    "from gensim.models import Word2Vec"
   ]
  },
  {
   "cell_type": "code",
   "execution_count": 6,
   "id": "e72e38b5",
   "metadata": {},
   "outputs": [],
   "source": [
    "model = Word2Vec.load(\"word2vec.model\")"
   ]
  },
  {
   "cell_type": "code",
   "execution_count": 7,
   "id": "7cd9edd8",
   "metadata": {},
   "outputs": [
    {
     "data": {
      "text/plain": [
       "['spotify:track:7KXjTSCq5nL1LoYtL7XAwS',\n",
       " 'spotify:track:7BKLCZ1jbUBVqRi2FVlTVw',\n",
       " 'spotify:track:1xznGGDReH1oQq0xzbwXa3',\n",
       " 'spotify:track:7yyRTcZmCiyzzJlNzGC9Ol',\n",
       " 'spotify:track:6O6M7pJLABmfBRoGZMu76Y',\n",
       " 'spotify:track:3a1lNhkSLSkpJE4MSHpDu9',\n",
       " 'spotify:track:5hTpBe8h35rJ67eAWHQsJx',\n",
       " 'spotify:track:2EEeOnHehOozLq4aS0n6SL',\n",
       " 'spotify:track:7GX5flRQZVHRAGd6B4TmDO',\n",
       " 'spotify:track:27GmP9AWRs744SzKcpJsTZ']"
      ]
     },
     "execution_count": 7,
     "metadata": {},
     "output_type": "execute_result"
    }
   ],
   "source": [
    "model.wv.index_to_key[:10]"
   ]
  },
  {
   "cell_type": "code",
   "execution_count": 8,
   "id": "136fc0b8",
   "metadata": {},
   "outputs": [
    {
     "data": {
      "text/plain": [
       "[('spotify:track:6HZILIRieu8S0iqY8kIKhj', 0.9719963669776917),\n",
       " ('spotify:track:0VgkVdmE4gld66l8iyGjgx', 0.962337851524353),\n",
       " ('spotify:track:7GX5flRQZVHRAGd6B4TmDO', 0.9528016448020935),\n",
       " ('spotify:track:3a1lNhkSLSkpJE4MSHpDu9', 0.9489864110946655),\n",
       " ('spotify:track:6gBFPUFcJLzWGx4lenP6h2', 0.9406766295433044),\n",
       " ('spotify:track:7hDc8b7IXETo14hHIHdnhd', 0.9399842023849487),\n",
       " ('spotify:track:0pSBuHjILhNEo55xK1zrRt', 0.9364325404167175),\n",
       " ('spotify:track:7floNISpH8VF4z4459Qo18', 0.9354570508003235),\n",
       " ('spotify:track:5QfQKhvdcxPgp68O0S39FV', 0.9351850152015686),\n",
       " ('spotify:track:2bjwRfXMk4uRgOD9IBYl9h', 0.932062029838562)]"
      ]
     },
     "execution_count": 8,
     "metadata": {},
     "output_type": "execute_result"
    }
   ],
   "source": [
    "model.wv.most_similar(\"spotify:track:7KXjTSCq5nL1LoYtL7XAwS\", topn=10)"
   ]
  },
  {
   "cell_type": "code",
   "execution_count": 9,
   "id": "44177896",
   "metadata": {},
   "outputs": [],
   "source": [
    "word_vectors = model.wv"
   ]
  },
  {
   "cell_type": "code",
   "execution_count": null,
   "id": "fd92c1b1",
   "metadata": {},
   "outputs": [],
   "source": []
  }
 ],
 "metadata": {
  "kernelspec": {
   "display_name": "tunescoutv2",
   "language": "python",
   "name": "python3"
  },
  "language_info": {
   "codemirror_mode": {
    "name": "ipython",
    "version": 3
   },
   "file_extension": ".py",
   "mimetype": "text/x-python",
   "name": "python",
   "nbconvert_exporter": "python",
   "pygments_lexer": "ipython3",
   "version": "3.12.11"
  }
 },
 "nbformat": 4,
 "nbformat_minor": 5
}
